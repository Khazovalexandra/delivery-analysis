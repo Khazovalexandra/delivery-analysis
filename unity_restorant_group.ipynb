{
 "cells": [
  {
   "cell_type": "markdown",
   "metadata": {},
   "source": [
    "# Определение зон доставки курьеров на разных видах транспорта"
   ]
  },
  {
   "cell_type": "code",
   "execution_count": null,
   "metadata": {},
   "outputs": [],
   "source": [
    "import osmnx as ox\n",
    "import folium\n",
    "import branca.colormap as cm\n",
    "import networkx as nx\n",
    "from shapely.geometry import Point, Polygon, MultiPolygon\n",
    "from folium import GeoJson, GeoJsonTooltip, Choropleth\n",
    "from shapely import wkt\n",
    "import pandas as pd\n",
    "from pandas import json_normalize\n",
    "import json\n",
    "import geopandas as gpd\n",
    "import matplotlib.pyplot as plt\n",
    "from matplotlib import cm\n",
    "import seaborn as sns\n",
    "# библиотеки для работы с графом OSM\n",
    "from srai.regionalizers import geocode_to_region_gdf\n",
    "from srai.loaders import OSMOnlineLoader, OSMNetworkType, OSMWayLoader\n",
    "from srai.regionalizers import H3Regionalizer"
   ]
  },
  {
   "cell_type": "markdown",
   "metadata": {},
   "source": [
    "Для анализа я выбрала холдинг Нижнего Новгорода из 10ти ресторанов - [unity restaurant group](https://urestgroup.ru/)\n",
    "- [Lamvil](https://lamvil.ru/): Октябрьская 16/10\n",
    "- [Scoba](https://skobar.ob-ob.ru/): Рождественская, 4\n",
    "- [Мазл тоф](https://mazltov.ru/): Большая Покровская улица, 9Б\n",
    "- [Маджонг](https://mahjong.ob-ob.ru/): Большая Покровская улица, 9Б\n",
    "- [Три апельсина](https://restoran3apelcina.ru/): улица Нестерова, 1/9\n",
    "- [Синдбад](https://sindbad.ob-ob.ru/): улица Нестерова, 1/9\n",
    "- [Тихуана](https://tihuana.ru/): Большая Покровская улица, 24/22\n",
    "- [Кефтэме](https://kefteme-nn.ru/): Большая Покровская улица, 24/22\n",
    "- [Мама дома на Костина](https://mamadoma.ob-ob.ru/kostina-rest): Костина, 3\n",
    "- [Мама дома на Горького](https://mamadomann.ru/): М.Горького 156"
   ]
  },
  {
   "cell_type": "markdown",
   "metadata": {},
   "source": [
    "Для начала загрузим все точки ресторанов в один геодатафрейм и посмотрим на карте как они распределены по городу"
   ]
  },
  {
   "cell_type": "code",
   "execution_count": 2,
   "metadata": {},
   "outputs": [],
   "source": [
    "lat_lamvil, lon_lamvil = 56.322531, 44.006998\n",
    "lat_scoba, lon_scoba = 56.329507, 43.995036\n",
    "lat_mazltov, lon_mazltov = 56.324497, 44.002725\n",
    "lat_mahjong, lon_mahjong = 56.324581, 44.002744\n",
    "lat_3apelcina, lon_3apelcina = 56.328903, 44.018491\n",
    "lat_sindbad, lon_sindbad = 56.328948, 44.018311\n",
    "lat_tihuana, lon_tihuana = 56.320857, 43.999411\n",
    "lat_kefteme, lon_kefteme = 56.320651, 43.999215\n",
    "lat_mama_kostina, lon_mama_kostina = 56.311931, 43.990616\n",
    "lat_mama_gorkogo, lon_mama_gorkogo = 56.316918, 44.007190"
   ]
  },
  {
   "cell_type": "code",
   "execution_count": null,
   "metadata": {},
   "outputs": [],
   "source": [
    "pt_dict = {'name': ['Lamvil', 'Scoba', 'Мазл Тоф', 'Маджонг', 'Три апельсина', \n",
    "                    'Синдбад', 'Тихуана', 'Кефтэме', 'Мама дома на Костина', 'Мама дома на Горького'], \n",
    "           'geometry': [Point(lon_lamvil, lat_lamvil), \n",
    "                        Point(lon_scoba, lat_scoba),\n",
    "                        Point(lon_mazltov, lat_mazltov),\n",
    "                        Point(lon_mahjong, lat_mahjong),\n",
    "                        Point(lon_3apelcina, lat_3apelcina),\n",
    "                        Point(lon_sindbad, lat_sindbad),\n",
    "                        Point(lon_tihuana, lat_tihuana),\n",
    "                        Point(lon_kefteme, lat_kefteme),\n",
    "                        Point(lon_mama_kostina, lat_mama_kostina),\n",
    "                        Point(lon_mama_gorkogo, lat_mama_gorkogo),]} \n",
    "df_point = gpd.GeoDataFrame(pt_dict, crs=\"EPSG:4326\") # указываем проекцию EPSG:4326\n",
    "\n",
    "df_point"
   ]
  },
  {
   "cell_type": "code",
   "execution_count": null,
   "metadata": {},
   "outputs": [],
   "source": [
    "map_point = folium.Map(location=[lat_mahjong, lon_mahjong], zoom_start=14, tiles='CartoDB positron', attributionControl=0)\n",
    "map_point = df_point.explore(m=map_point)\n",
    "map_point"
   ]
  },
  {
   "cell_type": "markdown",
   "metadata": {},
   "source": [
    "Очень интересная особенность данного холдинга в том, что шесть из десяти ресторанов находятся в одном здании и непосредственно граничат друг с другом"
   ]
  },
  {
   "cell_type": "markdown",
   "metadata": {},
   "source": [
    "### Анализ конкуренции \n",
    "\n",
    "Посмотрим сколько конкурентов расположено рядом с выбранными нами ресторанами в пешей доступности"
   ]
  },
  {
   "cell_type": "code",
   "execution_count": 5,
   "metadata": {},
   "outputs": [],
   "source": [
    "gdf = gpd.GeoDataFrame(index=[0], crs='epsg:32637', geometry=df_point.to_crs(32637).buffer(10000))\n",
    "area = gdf.to_crs(4326)"
   ]
  },
  {
   "cell_type": "code",
   "execution_count": null,
   "metadata": {},
   "outputs": [],
   "source": [
    "query = {\"amenity\": ['cafe', 'restaurant', 'pub']}\n",
    "\n",
    "loader = OSMOnlineLoader()\n",
    "restaurants = loader.load(area, query)"
   ]
  },
  {
   "cell_type": "code",
   "execution_count": null,
   "metadata": {},
   "outputs": [],
   "source": [
    "# отобразим скаченные данные на карте\n",
    "map = folium.Map(\n",
    "    location=[area.centroid.y.iloc[0], area.centroid.x.iloc[0]], \n",
    "    zoom_start = 11,\n",
    "    attributionControl=0,\n",
    "    tiles='cartodbpositron'\n",
    ")\n",
    "\n",
    "# TODO\n",
    "# отрисовать выгруженные объекты\n",
    "folium.GeoJson(\n",
    "    restaurants, control = False, \n",
    "    marker = folium.CircleMarker(\n",
    "        radius = 4, weight = 0.2, \n",
    "        fill_color = 'orange', fill_opacity = 1\n",
    "    )\n",
    ").add_to(map)\n",
    "\n",
    "# folium.GeoJson(...).add_to(map)\n",
    "\n",
    "folium.GeoJson(area, style_function=lambda feature: {'fillOpacity': 0.01,'color': 'grey'}).add_to(map)\n",
    "\n",
    "map"
   ]
  },
  {
   "cell_type": "code",
   "execution_count": null,
   "metadata": {},
   "outputs": [],
   "source": [
    "restaurants"
   ]
  },
  {
   "cell_type": "markdown",
   "metadata": {},
   "source": [
    "### Расчет изохрон\n",
    "\n",
    "- **Пешая**: радиус времени 10-15 минут.\n",
    "\n",
    "$ Расстояние = Скорость \\times Время $\n",
    "\n",
    "где:\n",
    "- Средняя скорость пешехода в м/с = 1.39 м/с (~5 км/ч),\n",
    "- Время = $ 15 \\times 60 $ = 900 секунд. (для расчетов переводим минуты в секунды)\n",
    "\n",
    "Подставляем значения для пешеходного радиуса в метрах:\n",
    "\n",
    "$ Расстояние = 1.39 \\, \\text{м/с} \\times 900 \\, \\text{секунд} = 1250 \\, \\text{метров} $\n"
   ]
  },
  {
   "cell_type": "code",
   "execution_count": 9,
   "metadata": {},
   "outputs": [],
   "source": [
    "walking_speed = 1.39 \n",
    "time_in_seconds = 15 * 60 \n",
    "walk_radius = walking_speed * time_in_seconds"
   ]
  },
  {
   "cell_type": "code",
   "execution_count": 10,
   "metadata": {},
   "outputs": [],
   "source": [
    "point = df_point[df_point['name'] == 'Тихуана']['geometry'].geometry.iloc[0]\n",
    "\n",
    "lon, lat = point.x, point.y\n",
    "\n",
    "center_point=(lat, lon)"
   ]
  },
  {
   "cell_type": "markdown",
   "metadata": {},
   "source": [
    "Создаем изохроны для пешей доступности всех десяти ресторанов"
   ]
  },
  {
   "cell_type": "code",
   "execution_count": null,
   "metadata": {},
   "outputs": [],
   "source": [
    "isochrones = []\n",
    "\n",
    "for _, row in df_point.iterrows():\n",
    "\n",
    "    lat, lon = row['geometry'].y, row['geometry'].x  # Координаты ресторана берем из созданного выше геодатафрейма\n",
    "    \n",
    "    # Строим пешеходнй граф\n",
    "    walk_graph = ox.graph_from_point((lat, lon), dist=walk_radius, dist_type=\"network\", network_type=\"walk\", simplify=True)\n",
    "    \n",
    "    # Находим ближайший узел\n",
    "    center_node = ox.nearest_nodes(walk_graph, X=lon, Y=lat)\n",
    "    \n",
    "    # Рассчитываем длину от него до всех узлов\n",
    "    lengths = nx.single_source_dijkstra_path_length(walk_graph, center_node, weight=\"length\")\n",
    "    \n",
    "    # Узлы должны быть в пределах изохроны\n",
    "    reachable_nodes = [node for node, dist in lengths.items() if dist <= walk_radius]\n",
    "    subgraph = walk_graph.subgraph(reachable_nodes)\n",
    "    \n",
    "    # Преобразуем узлы в полигоны (Convex Hull)\n",
    "    node_points = [Point(data['x'], data['y']) for node, data in subgraph.nodes(data=True)]\n",
    "    isochrone_polygon = gpd.GeoSeries(node_points).unary_union.convex_hull\n",
    "    \n",
    "    # Добавляем в список\n",
    "    isochrones.append({'name': row['name'], 'geometry': isochrone_polygon})\n",
    "\n",
    "isochrones_walk_gdf = gpd.GeoDataFrame(isochrones, crs=\"EPSG:4326\")"
   ]
  },
  {
   "cell_type": "code",
   "execution_count": null,
   "metadata": {},
   "outputs": [],
   "source": [
    "isochrones_walk_gdf"
   ]
  },
  {
   "cell_type": "markdown",
   "metadata": {},
   "source": [
    "Создаем визуализацию изохрон на карте с помощью folium, причем для каждого ресторана создаем отдельный слой"
   ]
  },
  {
   "cell_type": "code",
   "execution_count": null,
   "metadata": {},
   "outputs": [],
   "source": [
    "m = folium.Map(location=[df_point['geometry'].y.mean(), df_point['geometry'].x.mean()], zoom_start=13, tiles=\"cartodbpositron\")\n",
    "\n",
    "for _, row in isochrones_walk_gdf.iterrows():\n",
    "    fg = folium.FeatureGroup(name=row['name'])\n",
    "\n",
    "    folium.GeoJson(\n",
    "        row['geometry'],\n",
    "        style_function=lambda x: {'color': 'green', 'fillOpacity': 0.3, 'weight': 2},\n",
    "        name=row['name']\n",
    "    ).add_to(fg)\n",
    "\n",
    "    restaurant = df_point.loc[df_point['name'] == row['name']].iloc[0]\n",
    "\n",
    "    folium.Marker(\n",
    "        [restaurant['geometry'].y, restaurant['geometry'].x],\n",
    "        popup=restaurant['name'],\n",
    "        icon=folium.Icon(color=\"black\", icon=\"cutlery\")\n",
    "    ).add_to(fg)\n",
    "\n",
    "    fg.add_to(m)\n",
    "\n",
    "# Добавляем панель управления слоями\n",
    "folium.LayerControl(collapsed=False).add_to(m)\n",
    "\n",
    "m"
   ]
  },
  {
   "cell_type": "markdown",
   "metadata": {},
   "source": [
    "Благодаря изохронам мы можем быстро посчитать сколько конкурентов располагается в пешей доступности от ресторанов"
   ]
  },
  {
   "cell_type": "code",
   "execution_count": null,
   "metadata": {},
   "outputs": [],
   "source": [
    "isochrones_walk_gdf['restaurants_within'] = 0\n",
    "\n",
    "# Для каждой изохроны считаем, сколько точек попадает внутрь\n",
    "for idx, isochrone in isochrones_walk_gdf.iterrows():\n",
    "    # Считаем количество точек ресторанов, попадающих внутрь полигона изохроны\n",
    "    count = restaurants.within(isochrone.geometry).sum()\n",
    "    # Записываем результат в соответствующую строку\n",
    "    isochrones_walk_gdf.at[idx, 'restaurants_within'] = count\n",
    "\n",
    "isochrones_walk_gdf[['name', 'restaurants_within']]"
   ]
  },
  {
   "cell_type": "markdown",
   "metadata": {},
   "source": [
    "Получается, что больше всех конкурентов у Тихуаны, это оправдано, так как она находится в середине самой туристической улицы Нижнего, дальше идут Мазл Тоф и Маджонг, потому что они так же находятся на этой улице."
   ]
  },
  {
   "cell_type": "markdown",
   "metadata": {},
   "source": [
    "Сделаем расчеты скорости велосипеда и автомобиля из км/ч в м/с"
   ]
  },
  {
   "cell_type": "code",
   "execution_count": null,
   "metadata": {},
   "outputs": [],
   "source": [
    "average_speed_bicycle_kmh = 15  # велосипед\n",
    "average_speed_car_kmh = 45     # автомобиль\n",
    "\n",
    "# Перевод в м/с (1 км/ч = 1000 м / 3600 с)\n",
    "average_speed_bicycle_ms = average_speed_bicycle_kmh * 1000 / 3600\n",
    "average_speed_car_ms = average_speed_car_kmh * 1000 / 3600\n",
    "\n",
    "average_speed_bicycle_ms, average_speed_car_ms"
   ]
  },
  {
   "cell_type": "markdown",
   "metadata": {},
   "source": [
    "- **Велосипедная**: радиус 15-30 минут.\n",
    "\n",
    "$ Расстояние = Скорость \\times Время $\n",
    "\n",
    "где:\n",
    "- Средняя скорость велосипеда в м/с = 4.167 м/с (~15 км/ч),\n",
    "- Время = $ 22.5 \\times 60 $ = 1350 секунд.\n",
    "\n",
    "Подставляем значения для пешеходного радиуса:\n",
    "\n",
    "$ Расстояние = 4.167 \\, \\text{м/с} \\times 1350 \\, \\text{секунд} = 5\\ 625.45 \\, \\text{метров} $"
   ]
  },
  {
   "cell_type": "code",
   "execution_count": null,
   "metadata": {},
   "outputs": [],
   "source": [
    "time_in_seconds = 22.5 * 60  # 22 с половиной минуты в секундах\n",
    "bike_radius = average_speed_bicycle_ms * time_in_seconds  # радиус в метрах\n",
    "bike_radius"
   ]
  },
  {
   "cell_type": "code",
   "execution_count": null,
   "metadata": {},
   "outputs": [],
   "source": [
    "isochrones_bike = []\n",
    "\n",
    "for _, row in df_point.iterrows():\n",
    "\n",
    "    lat, lon = row['geometry'].y, row['geometry'].x  \n",
    "\n",
    "    bike_graph = ox.graph_from_point((lat, lon), dist=bike_radius, dist_type=\"network\", network_type=\"bike\", simplify=True)\n",
    "    \n",
    "    center_node = ox.nearest_nodes(bike_graph, X=lon, Y=lat)\n",
    "    \n",
    "    lengths = nx.single_source_dijkstra_path_length(bike_graph, center_node, weight=\"length\")\n",
    "    \n",
    "    reachable_nodes = [node for node, dist in lengths.items() if dist <= bike_radius]\n",
    "    subgraph = bike_graph.subgraph(reachable_nodes)\n",
    "    \n",
    "    node_points = [Point(data['x'], data['y']) for node, data in subgraph.nodes(data=True)]\n",
    "    isochrone_polygon = gpd.GeoSeries(node_points).unary_union.convex_hull\n",
    "    \n",
    "    isochrones_bike.append({'name': row['name'], 'geometry': isochrone_polygon})\n",
    "\n",
    "isochrones_bike_gdf = gpd.GeoDataFrame(isochrones_bike, crs=\"EPSG:4326\")"
   ]
  },
  {
   "cell_type": "code",
   "execution_count": null,
   "metadata": {},
   "outputs": [],
   "source": [
    "m = folium.Map(location=[df_point['geometry'].y.mean(), df_point['geometry'].x.mean()], zoom_start=12, tiles=\"cartodbpositron\")\n",
    "\n",
    "for _, row in isochrones_bike_gdf.iterrows():\n",
    "\n",
    "    fg = folium.FeatureGroup(name=row['name'])\n",
    "    \n",
    "    folium.GeoJson(\n",
    "        row['geometry'],\n",
    "        style_function=lambda x: {'color': 'orange', 'fillOpacity': 0.2, 'weight': 2},\n",
    "        name=row['name']\n",
    "    ).add_to(fg)\n",
    "\n",
    "    restaurant = df_point.loc[df_point['name'] == row['name']].iloc[0]\n",
    "    \n",
    "    folium.Marker(\n",
    "        [restaurant['geometry'].y, restaurant['geometry'].x],\n",
    "        popup=restaurant['name'],\n",
    "        icon=folium.Icon(color=\"black\", icon=\"cutlery\")\n",
    "    ).add_to(fg)\n",
    "    \n",
    "    fg.add_to(m)\n",
    "\n",
    "folium.LayerControl(collapsed=False).add_to(m)\n",
    "\n",
    "m"
   ]
  },
  {
   "cell_type": "markdown",
   "metadata": {},
   "source": [
    "- **Автомобильная**: радиус 30-60 минут.\n",
    "\n",
    "$ Расстояние = Скорость \\times Время $\n",
    "\n",
    "где:\n",
    "- Средняя скорость автомобиля в черте города в м/с = 12.5 м/с (~45 км/ч),\n",
    "- Время = $ 45 \\times 60 $ = 2700 секунд.\n",
    "\n",
    "Подставляем значения для пешеходного радиуса:\n",
    "\n",
    "$ Расстояние = 12.5 \\, \\text{м/с} \\times 2700 \\, \\text{секунд} = 33\\ 750 \\, \\text{метров} $"
   ]
  },
  {
   "cell_type": "code",
   "execution_count": null,
   "metadata": {},
   "outputs": [],
   "source": [
    "time_in_seconds = 45 * 60  # 45 минут переводим в секунды\n",
    "drive_radius = average_speed_car_ms * time_in_seconds  # радиус в метрах\n",
    "drive_radius"
   ]
  },
  {
   "cell_type": "code",
   "execution_count": null,
   "metadata": {},
   "outputs": [],
   "source": [
    "isochrones_drive = []\n",
    "\n",
    "for _, row in df_point.iterrows():\n",
    "\n",
    "    lat, lon = row['geometry'].y, row['geometry'].x  \n",
    "\n",
    "    drive_graph = ox.graph_from_point((lat, lon), dist=drive_radius, dist_type=\"network\", network_type=\"drive\", simplify=True)\n",
    "\n",
    "    center_node = ox.nearest_nodes(drive_graph, X=lon, Y=lat)\n",
    "   \n",
    "    lengths = nx.single_source_dijkstra_path_length(drive_graph, center_node, weight=\"length\")\n",
    "    \n",
    "    reachable_nodes = [node for node, dist in lengths.items() if dist <= drive_radius]\n",
    "    subgraph = drive_graph.subgraph(reachable_nodes)\n",
    "    \n",
    "    node_points = [Point(data['x'], data['y']) for node, data in subgraph.nodes(data=True)]\n",
    "    isochrone_polygon = gpd.GeoSeries(node_points).unary_union.convex_hull\n",
    "    \n",
    "    isochrones_drive.append({'name': row['name'], 'geometry': isochrone_polygon})\n",
    "\n",
    "isochrones_drive_gdf = gpd.GeoDataFrame(isochrones_drive, crs=\"EPSG:4326\")"
   ]
  },
  {
   "cell_type": "code",
   "execution_count": null,
   "metadata": {},
   "outputs": [],
   "source": [
    "m = folium.Map(location=[df_point['geometry'].y.mean(), df_point['geometry'].x.mean()], zoom_start=10, tiles=\"cartodbpositron\")\n",
    "\n",
    "for _, row in isochrones_drive_gdf.iterrows():\n",
    "\n",
    "    fg = folium.FeatureGroup(name=row['name'])\n",
    "    \n",
    "    folium.GeoJson(\n",
    "        row['geometry'],\n",
    "        style_function=lambda x: {'color': 'purple', 'fillOpacity': 0.2, 'weight': 2},\n",
    "        name=row['name']\n",
    "    ).add_to(fg)\n",
    "    \n",
    "    restaurant = df_point.loc[df_point['name'] == row['name']].iloc[0]\n",
    "    \n",
    "    folium.Marker(\n",
    "        [restaurant['geometry'].y, restaurant['geometry'].x],\n",
    "        popup=restaurant['name'],\n",
    "        icon=folium.Icon(color=\"red\", icon=\"cutlery\")\n",
    "    ).add_to(fg)\n",
    "    \n",
    "    fg.add_to(m)\n",
    "\n",
    "folium.LayerControl(collapsed=False).add_to(m)\n",
    "\n",
    "m"
   ]
  },
  {
   "cell_type": "code",
   "execution_count": null,
   "metadata": {},
   "outputs": [],
   "source": [
    "isochrones_drive_gdf"
   ]
  },
  {
   "cell_type": "markdown",
   "metadata": {},
   "source": [
    "Визуализируем для каждой точки все виды изохрон"
   ]
  },
  {
   "cell_type": "code",
   "execution_count": null,
   "metadata": {},
   "outputs": [],
   "source": [
    "m = folium.Map(location=[df_point['geometry'].y.mean(), df_point['geometry'].x.mean()], zoom_start=10, tiles=\"cartodbpositron\")\n",
    "\n",
    "# Цвета для типов изохрон оставляем прежними, чтобы было легче ориентироваться\n",
    "isochrone_colors = {\n",
    "    \"walk\": \"green\",\n",
    "    \"bike\": \"orange\",\n",
    "    \"drive\": \"purple\"\n",
    "}\n",
    "# Указываем ресторан, который будет виден при загрузке карты, чтобы не перегружать визуализацию\n",
    "default_restaurant = \"Lamvil\"\n",
    "\n",
    "# Добавляем слои для каждого ресторана\n",
    "for _, restaurant in df_point.iterrows():\n",
    "    restaurant_name = restaurant['name']\n",
    "    restaurant_lat = restaurant['geometry'].y\n",
    "    restaurant_lon = restaurant['geometry'].x\n",
    "    \n",
    "    # Параметр `show` определяет, виден ли слой при загрузке\n",
    "    show_layer = (restaurant_name == default_restaurant)\n",
    "\n",
    "    restaurant_group = folium.FeatureGroup(name=f\"{restaurant_name}\", show=show_layer)\n",
    "    \n",
    "    # Добавляем изохроны разных типов для ресторана\n",
    "    for delivery_type, color in isochrone_colors.items():\n",
    "        # Фильтруем данные для текущего ресторана и типа доставки\n",
    "        isochrone_gdf = globals()[f\"isochrones_{delivery_type}_gdf\"]\n",
    "        isochrone = isochrone_gdf[isochrone_gdf['name'] == restaurant_name]\n",
    "        \n",
    "        if not isochrone.empty:\n",
    "            folium.GeoJson(\n",
    "                isochrone.iloc[0]['geometry'],\n",
    "                style_function=lambda x, color=color: {'color': color, 'fillOpacity': 0.15, 'weight': 2},\n",
    "                name=f\"{restaurant_name} ({delivery_type})\"\n",
    "            ).add_to(restaurant_group)\n",
    "    \n",
    "    folium.Marker(\n",
    "        [restaurant_lat, restaurant_lon],\n",
    "        popup=restaurant_name,\n",
    "        icon=folium.Icon(color=\"red\", icon=\"cutlery\")\n",
    "    ).add_to(restaurant_group)\n",
    "    \n",
    "    restaurant_group.add_to(m)\n",
    "\n",
    "folium.LayerControl(collapsed=False).add_to(m)\n",
    "\n",
    "m"
   ]
  },
  {
   "cell_type": "markdown",
   "metadata": {},
   "source": [
    "Зоны автомобильной доставки для всех ресторанов на карте практически не отличаются и затрагивают не только сам Нижний Новгород, но и пригород."
   ]
  },
  {
   "cell_type": "markdown",
   "metadata": {},
   "source": [
    "### Анализ потенциала зоны доставки\n",
    "\n",
    "Во-первых, посмотрим сколько человек, в среднем, проживает на территории, которую затрагивает доставка. Сколько человек, проживающих на затронутой територии, попадает в зону доставки.\n",
    "\n",
    "Во-вторых, проанализируем сколько домов и коммерческих зданий(офисов) попало в изохрону ресторана, чтобы определить потенциал полученной зоны доставки за счет них."
   ]
  },
  {
   "cell_type": "markdown",
   "metadata": {},
   "source": [
    "# 1. \n",
    "\n",
    "Загружаем данные о проживающих в Нижнем Новгороде"
   ]
  },
  {
   "cell_type": "code",
   "execution_count": 24,
   "metadata": {},
   "outputs": [],
   "source": [
    "popular = gpd.read_file('kontur_population_RU_20231101.gpkg')"
   ]
  },
  {
   "cell_type": "code",
   "execution_count": null,
   "metadata": {},
   "outputs": [],
   "source": [
    "popular"
   ]
  },
  {
   "cell_type": "code",
   "execution_count": 26,
   "metadata": {},
   "outputs": [],
   "source": [
    "# Преобразуйте CRS в EPSG:4326 для работы с folium\n",
    "popular = popular.to_crs(epsg=4326)"
   ]
  },
  {
   "cell_type": "code",
   "execution_count": 27,
   "metadata": {},
   "outputs": [],
   "source": [
    "center_point = Point(center_point)"
   ]
  },
  {
   "cell_type": "code",
   "execution_count": null,
   "metadata": {},
   "outputs": [],
   "source": [
    "isochrones_walk_gdf"
   ]
  },
  {
   "cell_type": "markdown",
   "metadata": {},
   "source": [
    "Сделаем пространственное соединение между гексагонами и изохронами\n",
    "\n",
    "1. Пешие изохроны"
   ]
  },
  {
   "cell_type": "code",
   "execution_count": null,
   "metadata": {},
   "outputs": [],
   "source": [
    "points_walk_osm = popular.sjoin(isochrones_walk_gdf, how='inner', predicate='intersects')\n",
    "\n",
    "points_walk_osm"
   ]
  },
  {
   "cell_type": "code",
   "execution_count": null,
   "metadata": {},
   "outputs": [],
   "source": [
    "walk_population_summary = points_walk_osm.groupby('name')['population'].sum().reset_index()\n",
    "\n",
    "walk_population_summary"
   ]
  },
  {
   "cell_type": "code",
   "execution_count": null,
   "metadata": {},
   "outputs": [],
   "source": [
    "sns.set(style=\"whitegrid\")\n",
    "\n",
    "plt.figure(figsize=(10, 6))\n",
    "bar_plot = sns.barplot(x='name', y='population', data=walk_population_summary, palette='viridis')\n",
    "\n",
    "for index, value in enumerate(walk_population_summary['population']):\n",
    "    plt.text(index, value + 1000, str(value)[:5], ha='center', va='bottom', fontsize=10)\n",
    "\n",
    "plt.title('Количество человек, попавших в изохрону пешей доступности доставки ресторана', fontsize=16)\n",
    "plt.xlabel('Location', fontsize=12)\n",
    "plt.ylabel('Population', fontsize=12)\n",
    "plt.xticks(rotation=45, ha=\"right\")\n",
    "plt.tight_layout()\n",
    "\n",
    "plt.show()"
   ]
  },
  {
   "cell_type": "markdown",
   "metadata": {},
   "source": [
    "Рассчитаем плотность ресторанов в пешей доступности к населению, т.е. сколько ресторанов приходится на 1000 человек - это **демографический** показатель. "
   ]
  },
  {
   "cell_type": "code",
   "execution_count": 32,
   "metadata": {},
   "outputs": [],
   "source": [
    "data = isochrones_walk_gdf.merge(walk_population_summary, on='name')"
   ]
  },
  {
   "cell_type": "code",
   "execution_count": null,
   "metadata": {},
   "outputs": [],
   "source": [
    "data[\"restaurants_per_1000\"] = data[\"restaurants_within\"] / data[\"population\"] * 1000\n",
    "data"
   ]
  },
  {
   "cell_type": "code",
   "execution_count": null,
   "metadata": {},
   "outputs": [],
   "source": [
    "fig, ax = plt.subplots(figsize=(10, 10))\n",
    "data.plot(column='restaurants_per_1000', ax=ax, legend=True, cmap='OrRd', legend_kwds={'label': \"Ресторанов на 1000 человек\"})\n",
    "data.boundary.plot(ax=ax, linewidth=1, color='black')\n",
    "plt.title('Плотность ресторанов на 1000 человек по зонам доставки')\n",
    "plt.show()"
   ]
  },
  {
   "cell_type": "markdown",
   "metadata": {},
   "source": [
    "А еще можно определить **географический** показатель - количество ресторанов на единицу площади ($км^2$). Для этого сначала необходимо рассчитать площади изохрон."
   ]
  },
  {
   "cell_type": "code",
   "execution_count": 77,
   "metadata": {},
   "outputs": [],
   "source": [
    "data.set_crs(epsg=4326, inplace=True)\n",
    "\n",
    "data = data.to_crs(epsg=32637)"
   ]
  },
  {
   "cell_type": "code",
   "execution_count": null,
   "metadata": {},
   "outputs": [],
   "source": [
    "data['area_km2'] = data.geometry.area/1000000 # Делим на миллион чтобы перевести квадратные метры в километры\n",
    "\n",
    "data"
   ]
  },
  {
   "cell_type": "code",
   "execution_count": null,
   "metadata": {},
   "outputs": [],
   "source": [
    "data['restaurant_density'] = data['restaurants_within']/data['area_km2']\n",
    "data"
   ]
  },
  {
   "cell_type": "code",
   "execution_count": null,
   "metadata": {},
   "outputs": [],
   "source": [
    "print(data.crs)  # Должно быть EPSG:4326 (WGS84)\n",
    "if data.crs != 'EPSG:4326':\n",
    "    data = data.to_crs(epsg=4326)  # Преобразуем в WGS84"
   ]
  },
  {
   "cell_type": "code",
   "execution_count": null,
   "metadata": {},
   "outputs": [],
   "source": [
    "center_point = [data.geometry.centroid.y.mean(), data.geometry.centroid.x.mean()]\n",
    "m = folium.Map(location=center_point, zoom_start=14, tiles=\"cartodbpositron\")\n",
    "\n",
    "# Создаем цветовой градиент OrRd\n",
    "colormap = cm.LinearColormap(\n",
    "    colors=['white', 'orange', 'red'],  # OrRd-like colors\n",
    "    vmin=data['restaurant_density'].min(),\n",
    "    vmax=data['restaurant_density'].max()\n",
    ")\n",
    "\n",
    "# Добавляем градиент в легенду\n",
    "colormap.caption = 'Плотность ресторанов в расчете на 1000 человек'\n",
    "m.add_child(colormap)\n",
    "\n",
    "# Создаем отдельный слой для каждой изохроны\n",
    "for idx, row in data.iterrows():\n",
    "    # Создаем слой для текущей изохроны\n",
    "    layer = folium.FeatureGroup(name=row['name'])\n",
    "\n",
    "    # Добавляем изохрону на слой\n",
    "    folium.GeoJson(\n",
    "        row['geometry'],\n",
    "        style_function=lambda x, row=row: {\n",
    "            'fillColor': colormap(row['restaurant_density']),\n",
    "            'color': 'black',\n",
    "            'weight': 1,\n",
    "            'fillOpacity': 0.6\n",
    "        },\n",
    "        tooltip=f\"Ресторанов на 1000 человек: {row['restaurant_density']:.2f}<br>Площадь: {row['area_km2']:.2f} км²\"\n",
    "    ).add_to(layer)\n",
    "\n",
    "    # Добавляем слой на карту\n",
    "    layer.add_to(m)\n",
    "\n",
    "# Добавляем управление слоями\n",
    "folium.LayerControl().add_to(m)\n",
    "m"
   ]
  },
  {
   "cell_type": "markdown",
   "metadata": {},
   "source": [
    "2. Велосипедная доставка"
   ]
  },
  {
   "cell_type": "code",
   "execution_count": null,
   "metadata": {},
   "outputs": [],
   "source": [
    "points_bike_osm = popular.sjoin(isochrones_bike_gdf, how='inner', predicate='intersects')\n",
    "\n",
    "points_bike_osm"
   ]
  },
  {
   "cell_type": "code",
   "execution_count": null,
   "metadata": {},
   "outputs": [],
   "source": [
    "bike_population_summary = points_bike_osm.groupby('name')['population'].sum().reset_index()\n",
    "\n",
    "bike_population_summary"
   ]
  },
  {
   "cell_type": "code",
   "execution_count": null,
   "metadata": {},
   "outputs": [],
   "source": [
    "sns.set(style=\"whitegrid\")\n",
    "\n",
    "plt.figure(figsize=(10, 6))\n",
    "bar_plot = sns.barplot(x='name', y='population', data=bike_population_summary, palette='viridis')\n",
    "\n",
    "for index, value in enumerate(bike_population_summary['population']):\n",
    "    plt.text(index, value + 1000, str(value)[:6], ha='center', va='bottom', fontsize=10)\n",
    "\n",
    "plt.title('Количество человек, попавших в изохрону велосипедной доступности доставки ресторана', fontsize=16)\n",
    "plt.xlabel('Location', fontsize=12)\n",
    "plt.ylabel('Population', fontsize=12)\n",
    "plt.xticks(rotation=45, ha=\"right\")\n",
    "plt.tight_layout()\n",
    "\n",
    "plt.show()"
   ]
  },
  {
   "cell_type": "markdown",
   "metadata": {},
   "source": [
    "3. Автомобильная доставка"
   ]
  },
  {
   "cell_type": "code",
   "execution_count": null,
   "metadata": {},
   "outputs": [],
   "source": [
    "points_drive_osm = popular.sjoin(isochrones_drive_gdf, how='inner', predicate='intersects')\n",
    "\n",
    "points_drive_osm"
   ]
  },
  {
   "cell_type": "code",
   "execution_count": null,
   "metadata": {},
   "outputs": [],
   "source": [
    "drive_population_summary = points_drive_osm.groupby('name')['population'].sum().reset_index()\n",
    "\n",
    "drive_population_summary"
   ]
  },
  {
   "cell_type": "code",
   "execution_count": null,
   "metadata": {},
   "outputs": [],
   "source": [
    "sns.set(style=\"whitegrid\")\n",
    "\n",
    "plt.figure(figsize=(10, 6))\n",
    "bar_plot = sns.barplot(x='name', y='population', data=drive_population_summary, palette='viridis')\n",
    "for index, value in enumerate(drive_population_summary['population']):\n",
    "    plt.text(index, value + 1000, str(value)[:7], ha='center', va='bottom', fontsize=10)\n",
    "\n",
    "plt.title('Количество человек, попавших в изохрону автомобильной доступности доставки ресторана', fontsize=16)\n",
    "plt.xlabel('Location', fontsize=12)\n",
    "plt.ylabel('Population', fontsize=12)\n",
    "plt.xticks(rotation=45, ha=\"right\")\n",
    "plt.tight_layout()\n",
    "\n",
    "plt.show()"
   ]
  },
  {
   "cell_type": "markdown",
   "metadata": {},
   "source": [
    "Сделаем единую табличку"
   ]
  },
  {
   "cell_type": "code",
   "execution_count": 41,
   "metadata": {},
   "outputs": [],
   "source": [
    "combined_summary = pd.DataFrame()"
   ]
  },
  {
   "cell_type": "markdown",
   "metadata": {},
   "source": [
    "Объединяем все получившиеся датафреймы в один по столбцу *name*"
   ]
  },
  {
   "cell_type": "code",
   "execution_count": null,
   "metadata": {},
   "outputs": [],
   "source": [
    "combined_summary = walk_population_summary.merge(bike_population_summary, on='name', suffixes=('_walk', '_bike'))\n",
    "combined_summary = combined_summary.merge(drive_population_summary, on='name', suffixes=('', '_drive'))\n",
    "\n",
    "combined_summary"
   ]
  },
  {
   "cell_type": "markdown",
   "metadata": {},
   "source": [
    "Сделает круговые диаграммы для визуазации для каждого ресторана"
   ]
  },
  {
   "cell_type": "code",
   "execution_count": null,
   "metadata": {},
   "outputs": [],
   "source": [
    "fig, axes = plt.subplots(2, 5, figsize=(15, 6))\n",
    "axes = axes.flatten()\n",
    "\n",
    "# Цвета для круговой диаграммы\n",
    "colors = ['#ffb300', '#00945b', '#a3339e']\n",
    "\n",
    "# Проходим по каждому ресторану\n",
    "for i, ax in enumerate(axes):\n",
    "    if i < len(combined_summary[\"name\"]):\n",
    "        # Данные для текущего ресторана\n",
    "        restaurant_name = combined_summary[\"name\"][i]\n",
    "        walk = combined_summary[\"population_walk\"][i]\n",
    "        bike = combined_summary[\"population_bike\"][i]\n",
    "        total = combined_summary[\"population\"][i] - walk - bike\n",
    "        \n",
    "        # Данные для круговой диаграммы\n",
    "        sizes = [walk, bike, total]\n",
    "        labels = ['Пешком', 'Велосипед', 'Автомобиль']\n",
    "        \n",
    "        # Круговая диаграмма\n",
    "        ax.pie(sizes, labels=labels, colors=colors, autopct='%1.1f%%', startangle=90, textprops={'fontsize': 10})\n",
    "        ax.set_title(restaurant_name, fontsize=15)\n",
    "    #else:\n",
    "        # Если ресторанов меньше, чем subplot-ов, убираем лишние\n",
    "        #ax.axis('off')\n",
    "\n",
    "fig.suptitle(\"Распределение роличества населения в зависимости от типа доставки\", fontsize=16)\n",
    "\n",
    "# Убираем лишнее пространство между диаграммами\n",
    "plt.tight_layout(rect=[0, 0, 1, 0.95])\n",
    "\n",
    "plt.show()"
   ]
  },
  {
   "cell_type": "markdown",
   "metadata": {},
   "source": [
    "Тепловая карта по количеству людей"
   ]
  },
  {
   "cell_type": "code",
   "execution_count": null,
   "metadata": {},
   "outputs": [],
   "source": [
    "plt.figure(figsize=(12, 6))\n",
    "sns.heatmap(combined_summary.set_index('name')[['population_walk', 'population_bike', 'population']], \n",
    "            annot=True, fmt=\".0f\", cmap=\"YlGnBu\")\n",
    "plt.title('Количество людей, попавших в доставку', fontsize=16)\n",
    "plt.xlabel('Метод доставки', fontsize=14)\n",
    "plt.ylabel('Рестораны', fontsize=14)\n",
    "plt.show()"
   ]
  },
  {
   "cell_type": "markdown",
   "metadata": {},
   "source": [
    "Так же интересно посмотреть распределение по районам\n",
    "\n",
    "Для этого сначала выгружаем данные о районам Нижнего, все что в них не попадает будем считать пригородом"
   ]
  },
  {
   "cell_type": "code",
   "execution_count": 45,
   "metadata": {},
   "outputs": [],
   "source": [
    "with open('updated_only_NN.geojson', 'r', encoding='utf-8') as f:\n",
    "        NN_data = json.load(f)"
   ]
  },
  {
   "cell_type": "code",
   "execution_count": null,
   "metadata": {},
   "outputs": [],
   "source": [
    "regions_NN = gpd.GeoDataFrame(NN_data)\n",
    "regions_NN"
   ]
  },
  {
   "cell_type": "code",
   "execution_count": null,
   "metadata": {},
   "outputs": [],
   "source": [
    "merged_data = json_normalize(regions_NN['features'])\n",
    "merged_data = merged_data.drop(columns=['geometry.type', 'type'])\n",
    "\n",
    "# Преобразование координат в объекты MultiPolygon\n",
    "merged_data['geometry.coordinates'] = merged_data['geometry.coordinates'].apply(lambda coords: MultiPolygon(coords))\n",
    "\n",
    "# Создание GeoDataFrame\n",
    "geo_data = gpd.GeoDataFrame(merged_data, geometry='geometry.coordinates')\n",
    "geo_data"
   ]
  },
  {
   "cell_type": "markdown",
   "metadata": {},
   "source": [
    "Сначала посмотрим сколько человек проживает в районам Нижнего"
   ]
  },
  {
   "cell_type": "code",
   "execution_count": null,
   "metadata": {},
   "outputs": [],
   "source": [
    "district_population = {}\n",
    "\n",
    "for _, area in geo_data.iterrows():\n",
    "    area_name = area['properties.local_name']\n",
    "    area_geometry = area['geometry.coordinates']\n",
    "\n",
    "    # Находим пересекающиеся с районом полигоны населения\n",
    "    intersecting_population = popular[popular.geometry.intersects(area_geometry)]\n",
    "\n",
    "    # Суммируем количество людей в пересекающихся областях\n",
    "    total_population = intersecting_population['population'].sum()\n",
    "\n",
    "    district_population[area_name] = total_population\n",
    "\n",
    "# Создаём DataFrame с результатами\n",
    "district_population_df = pd.DataFrame(list(district_population.items()), columns=['district', 'population'])\n",
    "\n",
    "district_population_df"
   ]
  },
  {
   "cell_type": "code",
   "execution_count": 49,
   "metadata": {},
   "outputs": [],
   "source": [
    "district_population_df = district_population_df.rename(columns={'population': 'population_all'})"
   ]
  },
  {
   "cell_type": "markdown",
   "metadata": {},
   "source": [
    "Считаем сколько человек попадает в доставку по районам"
   ]
  },
  {
   "cell_type": "code",
   "execution_count": null,
   "metadata": {},
   "outputs": [],
   "source": [
    "delivery_population_by_district = []\n",
    "\n",
    "# Функция для обработки каждого типа изохроны\n",
    "def calculate_population_in_isochrone(isochrones_gdf, transport_type):\n",
    "    for _, restaurant in isochrones_gdf.iterrows():\n",
    "        restaurant_name = restaurant['name']\n",
    "        restaurant_geometry = restaurant['geometry']\n",
    "        \n",
    "        # Для каждого ресторана, находим пересекающиеся районы\n",
    "        for _, area in geo_data.iterrows():\n",
    "            area_name = area['properties.local_name']\n",
    "            area_geometry = area['geometry.coordinates']\n",
    "\n",
    "            # Находим пересечение изохроны ресторана с районом\n",
    "            intersection = restaurant_geometry.intersection(area_geometry)\n",
    "\n",
    "            # Если есть пересечение, вычисляем площадь пересечения\n",
    "            if intersection.is_valid and not intersection.is_empty:\n",
    "                intersection_area = intersection.area\n",
    "                area_total = area_geometry.area\n",
    "\n",
    "                # Вычисляем пропорцию пересечения по площади\n",
    "                intersection_ratio = intersection_area / area_total\n",
    "\n",
    "                # Находим население района\n",
    "                district_population = popular[popular.geometry.intersects(area_geometry)]['population'].sum()\n",
    "\n",
    "                # Вычисляем, сколько людей попадает в изохрону, пропорционально площади\n",
    "                population_in_isochrone = district_population * intersection_ratio\n",
    "\n",
    "                # Добавляем данные в итоговый список\n",
    "                delivery_population_by_district.append({\n",
    "                    'restaurant': restaurant_name,\n",
    "                    'isochrone_type': transport_type,\n",
    "                    'district': area_name,\n",
    "                    'population': population_in_isochrone\n",
    "                })\n",
    "\n",
    "# Обрабатываем каждый тип изохроны\n",
    "calculate_population_in_isochrone(isochrones_walk_gdf, 'walk')\n",
    "calculate_population_in_isochrone(isochrones_bike_gdf, 'bike')\n",
    "calculate_population_in_isochrone(isochrones_drive_gdf, 'drive')\n",
    "\n",
    "# Преобразуем результат в DataFrame\n",
    "delivery_population_df = pd.DataFrame(delivery_population_by_district)\n",
    "\n",
    "delivery_population_df"
   ]
  },
  {
   "cell_type": "code",
   "execution_count": 51,
   "metadata": {},
   "outputs": [],
   "source": [
    "geo_data = geo_data.set_index('id').join(district_population_df.set_index('district'))"
   ]
  },
  {
   "cell_type": "code",
   "execution_count": null,
   "metadata": {},
   "outputs": [],
   "source": [
    "geo_data"
   ]
  },
  {
   "cell_type": "markdown",
   "metadata": {},
   "source": [
    "Визуализируем границы районов на карте и точки наших ресторанов, чтобы понимать в каком территориано районе находится ресторан"
   ]
  },
  {
   "cell_type": "code",
   "execution_count": null,
   "metadata": {},
   "outputs": [],
   "source": [
    "center_point = [geo_data.geometry.centroid.y.mean(), geo_data.geometry.centroid.x.mean()]\n",
    "m = folium.Map(location=center_point, zoom_start=11, tiles=\"CartoDB Positron\")\n",
    "\n",
    "# Добавляем Choropleth слой\n",
    "choropleth = folium.Choropleth(\n",
    "    geo_data=geo_data.to_json(),  # Преобразуем GeoDataFrame в GeoJSON\n",
    "    name='choropleth',\n",
    "    data=geo_data,\n",
    "    columns=['properties.local_name', 'population_all'],\n",
    "    key_on='id',  # Связь между geo_data и данными по районам\n",
    "    fill_color='YlGnBu',  # Цветовая схема\n",
    "    fill_opacity=0.6,\n",
    "    line_opacity=0.2,\n",
    "    legend_name='Population',\n",
    ").add_to(m)\n",
    "\n",
    "choropleth.geojson.add_child(\n",
    "            folium.features.GeoJsonTooltip(fields=['properties.local_name', 'population_all'], aliases=['Район', 'Население'])\n",
    "        )\n",
    "\n",
    "m = df_point.explore(m=m)\n",
    "\n",
    "# Добавляем контроль слоев (для скрытия/отображения районов на карте)\n",
    "folium.LayerControl().add_to(m)\n",
    "\n",
    "m"
   ]
  },
  {
   "cell_type": "markdown",
   "metadata": {},
   "source": [
    "Теперь посмотрим какой процент населения района попадает в зону доставки"
   ]
  },
  {
   "cell_type": "code",
   "execution_count": 54,
   "metadata": {},
   "outputs": [],
   "source": [
    "# Добавляем столбец с процентами от населения\n",
    "delivery_population_df['percentage'] = delivery_population_df['population'] / delivery_population_df.groupby('district')['population'].transform('sum') * 100"
   ]
  },
  {
   "cell_type": "code",
   "execution_count": null,
   "metadata": {},
   "outputs": [],
   "source": [
    "heatmap_data = delivery_population_df.pivot_table(index='district', columns='isochrone_type', values='percentage', aggfunc='sum')\n",
    "\n",
    "# Строим тепловую карту\n",
    "plt.figure(figsize=(12, 8))\n",
    "sns.heatmap(heatmap_data, annot=True, cmap='YlGnBu', cbar_kws={'label': 'Процент людей'}, fmt='.1f')\n",
    "\n",
    "# Настроим график\n",
    "plt.title('Процент людей в доставке по типам изохрон и районам')\n",
    "plt.ylabel('Районы')\n",
    "plt.xlabel('Типы изохрон')\n",
    "\n",
    "# Покажем график\n",
    "plt.tight_layout()\n",
    "plt.show()"
   ]
  },
  {
   "cell_type": "code",
   "execution_count": null,
   "metadata": {},
   "outputs": [],
   "source": [
    "# Группируем данные по району и типу изохрона\n",
    "district_aggregated = delivery_population_df.groupby(['district', 'isochrone_type'])['population'].sum().unstack().fillna(0)\n",
    "\n",
    "colors = ['#ffb300', '#00945b', '#a3339e']\n",
    "\n",
    "# Настроим количество строк и столбцов для подграфиков\n",
    "n_rows = len(district_aggregated) // 3 + (len(district_aggregated) % 3 > 0)  # Считаем количество строк для подграфиков\n",
    "n_cols = 3  # Ставим 3 столбца\n",
    "\n",
    "# Создаем фигуру с подграфиками\n",
    "fig, axes = plt.subplots(n_rows, n_cols, figsize=(15, n_rows * 5))\n",
    "\n",
    "# Плоский список осей\n",
    "axes = axes.flatten()\n",
    "\n",
    "# Строим круговую диаграмму для каждого района\n",
    "for i, district in enumerate(district_aggregated.index):\n",
    "    sizes = district_aggregated.loc[district]\n",
    "    \n",
    "    # Убираем типы с нулевым значением\n",
    "    sizes = sizes[sizes > 0]\n",
    "    labels = sizes.index\n",
    "    \n",
    "    # Строим круговую диаграмму на соответствующем подграфике\n",
    "    axes[i].pie(sizes, labels=labels, autopct='%1.1f%%', startangle=90, \n",
    "                colors=colors, wedgeprops={'edgecolor': 'black'})\n",
    "    axes[i].set_title(f\"Процент людей в доставке для {district}\")\n",
    "\n",
    "# Оставляем пустые подграфики, если они есть\n",
    "for j in range(i + 1, len(axes)):\n",
    "    axes[j].axis('off')\n",
    "\n",
    "# Подгоняем элементы\n",
    "plt.tight_layout()\n",
    "plt.show()"
   ]
  },
  {
   "cell_type": "markdown",
   "metadata": {},
   "source": [
    "# 2.\n",
    "\n",
    "Выгрузаем все данные по зданиям в Нижегородской области из OSM"
   ]
  },
  {
   "cell_type": "code",
   "execution_count": null,
   "metadata": {},
   "outputs": [],
   "source": [
    "area = geocode_to_region_gdf(\"Нижегородская область\")\n",
    "                             \n",
    "# Создаем объект для загрузки данных из OpenStreetMap\n",
    "loader = OSMOnlineLoader()\n",
    "\n",
    "# Выполняем запрос для зданий (фильтруем по тегу 'building')\n",
    "osm_buildings_data = loader.load(area, tags={'building': True})\n"
   ]
  },
  {
   "cell_type": "code",
   "execution_count": null,
   "metadata": {},
   "outputs": [],
   "source": [
    "osm_buildings_data.sample(10)"
   ]
  },
  {
   "cell_type": "code",
   "execution_count": null,
   "metadata": {},
   "outputs": [],
   "source": [
    "osm_buildings_data.info()"
   ]
  },
  {
   "cell_type": "code",
   "execution_count": null,
   "metadata": {},
   "outputs": [],
   "source": [
    "osm_buildings_data['building'].unique()"
   ]
  },
  {
   "cell_type": "markdown",
   "metadata": {},
   "source": [
    "Нам нужно выбрать необходимые для доставок типы зданий:\n",
    "\n",
    "*Жилые здания:* residential, apartments, house, dormitory, semidetached_house, bungalow, detached, terrace.\n",
    "\n",
    "*Офисы и коммерческие здания:* office, commercial, retail.\n",
    "\n",
    "*Склады и производственные здания:* warehouse, industrial, manufacture, storage_tank, depot.\n",
    "\n",
    "*Учреждения, которые могут заказывать доставку:* school, hospital, kindergarten, university, college, clinic.\n",
    "\n",
    "*Общественные здания и точки сбора людей:* community_centre, stadium, sports_centre, sports_hall, public_building, townhall, train_station.\n",
    "\n",
    "*Отели:* hotel.\n",
    "\n",
    "*Религиозные здания:* Если есть заказы на мероприятия — church, mosque, synagogue, cathedral, temple.\n",
    "\n",
    "Еще я выбрала *yes* как тип зданий, так как в него входят много зданий (в основном жилые дома/жилые многоэтажки)"
   ]
  },
  {
   "cell_type": "code",
   "execution_count": 61,
   "metadata": {},
   "outputs": [],
   "source": [
    "useful_building_types = [\n",
    "    'residential', 'apartments', 'house', 'dormitory', 'semidetached_house', \n",
    "    'bungalow', 'detached', 'terrace', 'office', 'commercial', 'retail', \n",
    "    'warehouse', 'industrial', 'manufacture', 'storage_tank', 'depot', 'school', \n",
    "    'hospital', 'kindergarten', 'university', 'college', 'clinic', \n",
    "    'community_centre', 'stadium', 'sports_centre', 'sports_hall', \n",
    "    'public_building', 'townhall', 'train_station', 'hotel', 'church', \n",
    "    'mosque', 'synagogue', 'cathedral', 'temple', 'yes'\n",
    "]\n",
    "\n",
    "filtered_osm_data = osm_buildings_data[\n",
    "    osm_buildings_data['building'].isin(useful_building_types)\n",
    "]\n"
   ]
  },
  {
   "cell_type": "code",
   "execution_count": null,
   "metadata": {},
   "outputs": [],
   "source": [
    "filtered_osm_data"
   ]
  },
  {
   "cell_type": "markdown",
   "metadata": {},
   "source": [
    "Теперь выделим только здания, которые попадают в изохроны\n",
    "\n",
    "- в пешие изохроны"
   ]
  },
  {
   "cell_type": "code",
   "execution_count": null,
   "metadata": {},
   "outputs": [],
   "source": [
    "# Проверяем, чтобы системы координат совпадали\n",
    "filtered_buildings = filtered_osm_data.to_crs(isochrones_walk_gdf.crs)\n",
    "\n",
    "# Пространственное соединение зданий и районов\n",
    "filtered_buildings = gpd.sjoin(filtered_buildings, geo_data, how=\"inner\", op=\"within\")\n",
    "\n",
    "filtered_buildings"
   ]
  },
  {
   "cell_type": "code",
   "execution_count": null,
   "metadata": {},
   "outputs": [],
   "source": [
    "filtered_buildings.reset_index(drop=True, inplace=True)\n",
    "filtered_buildings"
   ]
  },
  {
   "cell_type": "code",
   "execution_count": 65,
   "metadata": {},
   "outputs": [],
   "source": [
    "# Переименовываем колонки, если они есть\n",
    "if 'index_left' in filtered_buildings.columns:\n",
    "    filtered_buildings = filtered_buildings.rename(columns={'index_left': 'index_left_old'})\n",
    "if 'index_right' in filtered_buildings.columns:\n",
    "    filtered_buildings = filtered_buildings.rename(columns={'index_right': 'index_right_old'})"
   ]
  },
  {
   "cell_type": "code",
   "execution_count": null,
   "metadata": {},
   "outputs": [],
   "source": [
    "buildings_in_walk_isochrones = gpd.sjoin(\n",
    "    filtered_buildings, \n",
    "    isochrones_walk_gdf, \n",
    "    how=\"inner\",  # Оставляем только здания, которые попадают в изохроны\n",
    "    op=\"within\"   # Здания должны находиться внутри изохрон\n",
    ")\n",
    "\n",
    "# Убираем дубликаты (если здание попадает в несколько изохрон)\n",
    "buildings_in_walk_isochrones = buildings_in_walk_isochrones.drop_duplicates(subset=['geometry'])\n",
    "\n",
    "buildings_in_walk_isochrones = buildings_in_walk_isochrones.drop(columns=['index_right'])\n",
    "\n",
    "# Сбрасываем индекс\n",
    "buildings_in_walk_isochrones.reset_index(drop=True, inplace=True)\n",
    "\n",
    "buildings_in_walk_isochrones"
   ]
  },
  {
   "cell_type": "code",
   "execution_count": null,
   "metadata": {},
   "outputs": [],
   "source": [
    "building_walk_counts_df = buildings_in_walk_isochrones.groupby('building').size().reset_index(name='count')\n",
    "building_walk_counts_df"
   ]
  },
  {
   "cell_type": "code",
   "execution_count": null,
   "metadata": {},
   "outputs": [],
   "source": [
    "building_type_counts_with_district = buildings_in_walk_isochrones.groupby(\n",
    "    ['name', 'properties.local_name', 'building']\n",
    ").size().reset_index(name='count')\n",
    "\n",
    "# Преобразуем в таблицу\n",
    "building_type_pivot_with_district = building_type_counts_with_district.pivot(\n",
    "    index=['name', 'properties.local_name'], columns='building', values='count'\n",
    ").fillna(0)\n",
    "\n",
    "building_type_pivot_with_district"
   ]
  },
  {
   "cell_type": "code",
   "execution_count": null,
   "metadata": {},
   "outputs": [],
   "source": [
    "district_walk_data = building_type_pivot_with_district.reset_index().melt(\n",
    "    id_vars=['name', 'properties.local_name'], \n",
    "    var_name='building_type', \n",
    "    value_name='count'\n",
    ")\n",
    "\n",
    "district_walk_data"
   ]
  },
  {
   "cell_type": "code",
   "execution_count": null,
   "metadata": {},
   "outputs": [],
   "source": [
    "# Переименуем колонку 'yes' в 'дома'\n",
    "table = building_type_pivot_with_district.rename(columns={'yes': 'дома'})\n",
    "\n",
    "# Создаем новую колонку 'другие здания', суммируя все остальные колонки\n",
    "table['другие здания'] = table.drop(columns=['дома']).sum(axis=1)\n",
    "\n",
    "# Оставляем только нужные колонки\n",
    "table_simplified = table[['дома', 'другие здания']]\n",
    "\n",
    "table_simplified"
   ]
  },
  {
   "cell_type": "code",
   "execution_count": null,
   "metadata": {},
   "outputs": [],
   "source": [
    "# Преобразуем DataFrame в \"длинный\" формат\n",
    "table_long = table_simplified.reset_index().melt(\n",
    "    id_vars=['name', 'properties.local_name'], \n",
    "    var_name='building_type', \n",
    "    value_name='count'\n",
    ")\n",
    "\n",
    "# Визуализация столбчатой диаграммы с накоплением\n",
    "plt.figure(figsize=(14, 8))\n",
    "sns.barplot(data=table_long, x='name', y='count', hue='building_type')\n",
    "plt.title('Количество домов и других зданий для каждого ресторана и района')\n",
    "plt.xlabel('Ресторан и район')\n",
    "plt.ylabel('Количество зданий')\n",
    "plt.legend(title='Тип здания', bbox_to_anchor=(1.05, 1), loc='upper left')\n",
    "plt.xticks(rotation=45)\n",
    "plt.show()"
   ]
  },
  {
   "cell_type": "code",
   "execution_count": 64,
   "metadata": {},
   "outputs": [],
   "source": [
    "center_point=(lat, lon)"
   ]
  },
  {
   "cell_type": "code",
   "execution_count": null,
   "metadata": {},
   "outputs": [],
   "source": [
    "map = folium.Map(location=center_point, zoom_start=11, attributionControl=0, tiles='cartodbpositron')\n",
    "\n",
    "default_restaurant = \"Lamvil\"  # Укажите ресторан, отображаемый по умолчанию\n",
    "\n",
    "# Создаём слои для каждого ресторана\n",
    "for _, restaurant in df_point.iterrows():\n",
    "    restaurant_name = restaurant['name']\n",
    "    restaurant_lat = restaurant['geometry'].y\n",
    "    restaurant_lon = restaurant['geometry'].x\n",
    "\n",
    "    # Показывать слой по умолчанию\n",
    "    show_layer = (restaurant_name == default_restaurant)\n",
    "\n",
    "    # Создаем группу для каждого ресторана\n",
    "    restaurant_group = folium.FeatureGroup(name=restaurant_name, show=show_layer)\n",
    "\n",
    "    # Изохрона ресторана\n",
    "    isochron = isochrones_walk_gdf[isochrones_walk_gdf['name'] == restaurant_name].iloc[0]\n",
    "\n",
    "    folium.GeoJson(\n",
    "        isochron['geometry'],\n",
    "        style_function=lambda x: {'color': 'green', 'fillOpacity': 0.0, 'weight': 2},\n",
    "    ).add_to(restaurant_group)\n",
    "\n",
    "    # Здания, попадающие в изохрону\n",
    "    filtered_buildings = buildings_in_walk_isochrones[\n",
    "        buildings_in_walk_isochrones.intersects(isochron['geometry'])\n",
    "    ]\n",
    "\n",
    "    # Убедитесь, что остаются только полигоны\n",
    "    filtered_buildings = filtered_buildings[filtered_buildings.geometry.type == 'Polygon']\n",
    "\n",
    "    if not filtered_buildings.empty:\n",
    "        folium.GeoJson(\n",
    "            filtered_buildings,\n",
    "            style_function=lambda feature: {\n",
    "                'fillColor': 'green',\n",
    "                'color': 'green',\n",
    "                'weight': 0.2,\n",
    "                'fillOpacity': 0.6\n",
    "            },\n",
    "            highlight_function=lambda feature: {\n",
    "                'fillColor': 'red',\n",
    "                'color': 'red',\n",
    "                'weight': 1,\n",
    "                'fillOpacity': 0.9\n",
    "            },\n",
    "        ).add_to(restaurant_group)\n",
    "\n",
    "    # Добавляем метку ресторана\n",
    "    folium.Marker(\n",
    "        [restaurant_lat, restaurant_lon],\n",
    "        popup=restaurant_name,\n",
    "        icon=folium.Icon(color=\"black\", icon=\"cutlery\")\n",
    "    ).add_to(restaurant_group)\n",
    "\n",
    "    restaurant_group.add_to(map)\n",
    "\n",
    "# Панель управления\n",
    "folium.LayerControl(collapsed=False).add_to(map)\n",
    "\n",
    "map"
   ]
  },
  {
   "cell_type": "markdown",
   "metadata": {},
   "source": [
    "- велосипедные доставки"
   ]
  },
  {
   "cell_type": "code",
   "execution_count": null,
   "metadata": {},
   "outputs": [],
   "source": [
    "filtered_buildings = filtered_osm_data.to_crs(isochrones_bike_gdf.crs)\n",
    "# Пространственное соединение зданий и районов\n",
    "filtered_buildings = gpd.sjoin(filtered_buildings, geo_data, how=\"inner\", op=\"within\")\n",
    "filtered_buildings.reset_index(drop=True, inplace=True)\n",
    "\n",
    "filtered_buildings"
   ]
  },
  {
   "cell_type": "code",
   "execution_count": 112,
   "metadata": {},
   "outputs": [],
   "source": [
    "# Переименовываем колонки, если они есть\n",
    "if 'index_left' in filtered_buildings.columns:\n",
    "    filtered_buildings = filtered_buildings.rename(columns={'index_left': 'index_left_old'})\n",
    "if 'index_right' in filtered_buildings.columns:\n",
    "    filtered_buildings = filtered_buildings.rename(columns={'index_right': 'index_right_old'})"
   ]
  },
  {
   "cell_type": "code",
   "execution_count": null,
   "metadata": {},
   "outputs": [],
   "source": [
    "buildings_in_bike_isochrones = gpd.sjoin(\n",
    "    filtered_buildings, \n",
    "    isochrones_bike_gdf, \n",
    "    how=\"inner\",  # Оставляем только здания, которые попадают в изохроны\n",
    "    op=\"within\"   # Здания должны находиться внутри изохрон\n",
    ")\n",
    "\n",
    "# Убираем дубликаты (если здание попадает в несколько изохрон)\n",
    "buildings_in_bike_isochrones = buildings_in_bike_isochrones.drop_duplicates(subset=['geometry'])\n",
    "\n",
    "# Удаляем лишние колонки (если нужно)\n",
    "buildings_in_bike_isochrones = buildings_in_bike_isochrones.drop(columns=['index_right'])\n",
    "\n",
    "# Сбрасываем индекс\n",
    "buildings_in_bike_isochrones.reset_index(drop=True, inplace=True)\n",
    "\n",
    "buildings_in_bike_isochrones"
   ]
  },
  {
   "cell_type": "code",
   "execution_count": null,
   "metadata": {},
   "outputs": [],
   "source": [
    "building_bike_counts_df = buildings_in_bike_isochrones.groupby('building').size().reset_index(name='count')\n",
    "building_bike_counts_df = building_bike_counts_df.replace({'building': {'yes': 'living houses'}}).sort_values(by='building')\n",
    "\n",
    "building_bike_counts_df"
   ]
  },
  {
   "cell_type": "code",
   "execution_count": null,
   "metadata": {},
   "outputs": [],
   "source": [
    "# Группируем данные в новые категории\n",
    "def categorize_building(building_type):\n",
    "    if building_type in ['apartments', 'detached', 'house', 'residential', 'living houses']:\n",
    "        return 'Жилые дома'\n",
    "    elif building_type in ['commercial', 'office', 'retail', 'hotel', 'warehouse', 'industrial']:\n",
    "        return 'Коммерческие здания'\n",
    "    elif building_type in ['college', 'school', 'university', 'kindergarten', 'dormitory']:\n",
    "        return 'Учебные заведения'\n",
    "    elif building_type in ['hospital', 'stadium', 'synagogue', 'cathedral', 'church']:\n",
    "        return 'Другое'\n",
    "    else:\n",
    "        return 'Другое'\n",
    "\n",
    "# Применяем группировку\n",
    "building_bike_counts_df['category'] = building_bike_counts_df['building'].apply(categorize_building)\n",
    "\n",
    "# Группируем данные по новой категории и суммируем количество\n",
    "grouped_data = building_bike_counts_df.groupby('category')['count'].sum().reset_index()\n",
    "\n",
    "grouped_data"
   ]
  },
  {
   "cell_type": "code",
   "execution_count": null,
   "metadata": {},
   "outputs": [],
   "source": [
    "# Создаем цветовую палитру\n",
    "colors = ['purple', 'skyblue', 'gold', 'orange']\n",
    "explode = (0, 0.3, 0.2, 0.1)  # Выделяем маленькие кусочки\n",
    "# Визуализация круговой диаграммы\n",
    "fig, ax = plt.subplots(figsize=(7, 6))\n",
    "wedges, texts, autotexts = ax.pie(\n",
    "    grouped_data['count'], \n",
    "    labels=grouped_data['category'], \n",
    "    autopct='%1.1f%%', \n",
    "    startangle=140, \n",
    "    colors=colors,\n",
    "    explode=explode,  # Выделяем кусочки\n",
    "    #shadow=True,  # Добавляем тень для эффекта объема\n",
    "    textprops={'fontsize': 11, 'color': 'black'}\n",
    ")\n",
    "\n",
    "# Добавляем легенду\n",
    "ax.legend(\n",
    "    wedges, \n",
    "    grouped_data['category'], \n",
    "    title=\"Категории зданий\", \n",
    "    loc=\"center left\", \n",
    "    bbox_to_anchor=(1, 0, 0.5, 1),  # Размещаем легенду справа от диаграммы\n",
    "    fontsize=12\n",
    ")\n",
    "\n",
    "# Настройки заголовка\n",
    "ax.set_title('Распределение зданий по категориям в районах велосипедной доставки', fontsize=16, pad=20)\n",
    "\n",
    "# Показываем диаграмму\n",
    "plt.tight_layout()  # Убедимся, что легенда не обрезается\n",
    "plt.show()"
   ]
  },
  {
   "cell_type": "code",
   "execution_count": null,
   "metadata": {},
   "outputs": [],
   "source": [
    "building_type_counts_bike = buildings_in_bike_isochrones.groupby(\n",
    "    ['name', 'properties.local_name', 'building']\n",
    ").size().reset_index(name='count')\n",
    "\n",
    "# Преобразуем в таблицу\n",
    "building_type_pivot_bike = building_type_counts_bike.pivot(\n",
    "    index=['name', 'properties.local_name'], columns='building', values='count'\n",
    ").fillna(0)\n",
    "\n",
    "building_type_pivot_bike"
   ]
  },
  {
   "cell_type": "code",
   "execution_count": null,
   "metadata": {},
   "outputs": [],
   "source": [
    "# Переименуем колонку 'yes' в 'дома'\n",
    "table_bike= building_type_pivot_bike.rename(columns={'yes': 'дома'})\n",
    "\n",
    "# Создаем новую колонку 'другие здания', суммируя все остальные колонки\n",
    "table_bike['другие здания'] = table_bike.drop(columns=['дома']).sum(axis=1)\n",
    "\n",
    "# Оставляем только нужные колонки\n",
    "table_bike_simplified = table_bike[['дома', 'другие здания']]\n",
    "\n",
    "table_bike_simplified"
   ]
  },
  {
   "cell_type": "code",
   "execution_count": null,
   "metadata": {},
   "outputs": [],
   "source": [
    "# Преобразуем DataFrame в \"длинный\" формат\n",
    "table_long = table_bike_simplified.reset_index().melt(\n",
    "    id_vars=['name', 'properties.local_name'], \n",
    "    var_name='building_type', \n",
    "    value_name='count'\n",
    ")\n",
    "\n",
    "# Визуализация столбчатой диаграммы с накоплением\n",
    "plt.figure(figsize=(14, 8))\n",
    "sns.barplot(data=table_long, x='name', y='count', hue='building_type')\n",
    "plt.title('Количество домов и других зданий для каждого ресторана и района')\n",
    "plt.xlabel('Ресторан и район')\n",
    "plt.ylabel('Количество зданий')\n",
    "plt.legend(title='Тип здания', bbox_to_anchor=(1.05, 1), loc='upper left')\n",
    "plt.xticks(rotation=45)\n",
    "plt.show()"
   ]
  },
  {
   "cell_type": "code",
   "execution_count": null,
   "metadata": {},
   "outputs": [],
   "source": [
    "map = folium.Map(location=center_point, zoom_start=11, attributionControl=0, tiles='cartodbpositron')\n",
    "\n",
    "default_restaurant = \"Lamvil\"  \n",
    "\n",
    "for _, restaurant in df_point.iterrows():\n",
    "    restaurant_name = restaurant['name']\n",
    "    restaurant_lat = restaurant['geometry'].y\n",
    "    restaurant_lon = restaurant['geometry'].x\n",
    "\n",
    "    show_layer = (restaurant_name == default_restaurant)\n",
    "\n",
    "    restaurant_group = folium.FeatureGroup(name=restaurant_name, show=show_layer)\n",
    "\n",
    "    isochron = isochrones_bike_gdf[isochrones_bike_gdf['name'] == restaurant_name].iloc[0]\n",
    "\n",
    "    folium.GeoJson(\n",
    "        isochron['geometry'],\n",
    "        style_function=lambda x: {'color': 'orange', 'fillOpacity': 0.0, 'weight': 2},\n",
    "    ).add_to(restaurant_group)\n",
    "\n",
    "    filtered_buildings = buildings_in_bike_isochrones[\n",
    "        buildings_in_bike_isochrones.intersects(isochron['geometry'])\n",
    "    ]\n",
    "\n",
    "    filtered_buildings = filtered_buildings[filtered_buildings.geometry.type == 'Polygon']\n",
    "\n",
    "    if not filtered_buildings.empty:\n",
    "        folium.GeoJson(\n",
    "            filtered_buildings,\n",
    "            style_function=lambda feature: {\n",
    "                'fillColor': 'orange',\n",
    "                'color': 'orange',\n",
    "                'weight': 0.2,\n",
    "                'fillOpacity': 0.6\n",
    "            },\n",
    "            highlight_function=lambda feature: {\n",
    "                'fillColor': 'red',\n",
    "                'color': 'red',\n",
    "                'weight': 1,\n",
    "                'fillOpacity': 0.9\n",
    "            },\n",
    "        ).add_to(restaurant_group)\n",
    "\n",
    "    folium.Marker(\n",
    "        [restaurant_lat, restaurant_lon],\n",
    "        popup=restaurant_name,\n",
    "        icon=folium.Icon(color=\"black\", icon=\"cutlery\")\n",
    "    ).add_to(restaurant_group)\n",
    "\n",
    "    restaurant_group.add_to(map)\n",
    "\n",
    "folium.LayerControl(collapsed=False).add_to(map)\n",
    "\n",
    "map"
   ]
  },
  {
   "cell_type": "markdown",
   "metadata": {},
   "source": [
    "- автомобильные доставки"
   ]
  },
  {
   "cell_type": "code",
   "execution_count": null,
   "metadata": {},
   "outputs": [],
   "source": [
    "filtered_buildings = filtered_osm_data.to_crs(isochrones_drive_gdf.crs)\n",
    "# Пространственное соединение зданий и районов\n",
    "filtered_buildings = gpd.sjoin(filtered_buildings, geo_data, how=\"inner\", op=\"within\")\n",
    "filtered_buildings.reset_index(drop=True, inplace=True)\n",
    "\n",
    "filtered_buildings"
   ]
  },
  {
   "cell_type": "code",
   "execution_count": 118,
   "metadata": {},
   "outputs": [],
   "source": [
    "# Переименовываем колонки, если они есть\n",
    "if 'index_left' in filtered_buildings.columns:\n",
    "    filtered_buildings = filtered_buildings.rename(columns={'index_left': 'index_left_old'})\n",
    "if 'index_right' in filtered_buildings.columns:\n",
    "    filtered_buildings = filtered_buildings.rename(columns={'index_right': 'index_right_old'})"
   ]
  },
  {
   "cell_type": "code",
   "execution_count": null,
   "metadata": {},
   "outputs": [],
   "source": [
    "buildings_in_drive_isochrones = gpd.sjoin(\n",
    "    filtered_buildings, \n",
    "    isochrones_drive_gdf, \n",
    "    how=\"inner\",  # Оставляем только здания, которые попадают в изохроны\n",
    "    op=\"within\"   # Здания должны находиться внутри изохрон\n",
    ")\n",
    "\n",
    "# Убираем дубликаты (если здание попадает в несколько изохрон)\n",
    "buildings_in_drive_isochrones = buildings_in_drive_isochrones.drop_duplicates(subset=['geometry'])\n",
    "\n",
    "# Удаляем лишние колонки (если нужно)\n",
    "buildings_in_drive_isochrones = buildings_in_drive_isochrones.drop(columns=['index_right'])\n",
    "\n",
    "# Сбрасываем индекс\n",
    "buildings_in_drive_isochrones.reset_index(drop=True, inplace=True)\n",
    "\n",
    "buildings_in_drive_isochrones"
   ]
  },
  {
   "cell_type": "code",
   "execution_count": null,
   "metadata": {},
   "outputs": [],
   "source": [
    "building_drive_counts_df = buildings_in_drive_isochrones.groupby('building').size().reset_index(name='count')\n",
    "building_drive_counts_df"
   ]
  },
  {
   "cell_type": "code",
   "execution_count": null,
   "metadata": {},
   "outputs": [],
   "source": [
    "building_type_counts_drive = buildings_in_drive_isochrones.groupby(\n",
    "    ['name', 'properties.local_name', 'building']\n",
    ").size().reset_index(name='count')\n",
    "\n",
    "# Преобразуем в таблицу\n",
    "building_type_pivot_drive = building_type_counts_drive.pivot(\n",
    "    index=['name', 'properties.local_name'], columns='building', values='count'\n",
    ").fillna(0)\n",
    "\n",
    "building_type_pivot_drive"
   ]
  },
  {
   "cell_type": "code",
   "execution_count": null,
   "metadata": {},
   "outputs": [],
   "source": [
    "# Переименуем колонку 'yes' в 'дома'\n",
    "table_drive = building_type_pivot_drive.rename(columns={'yes': 'дома'})\n",
    "\n",
    "# Создаем новую колонку 'другие здания', суммируя все остальные колонки\n",
    "table_drive['другие здания'] = table_drive.drop(columns=['дома']).sum(axis=1)\n",
    "\n",
    "# Оставляем только нужные колонки\n",
    "table_drive_simplified = table_drive[['дома', 'другие здания']]\n",
    "\n",
    "table_drive_simplified"
   ]
  },
  {
   "cell_type": "code",
   "execution_count": null,
   "metadata": {},
   "outputs": [],
   "source": [
    "counts_buildings_df = building_walk_counts_df.merge(building_bike_counts_df, on='building', suffixes=('_walk', '_bike'))\n",
    "counts_buildings_df = counts_buildings_df.merge(building_drive_counts_df, on='building')\n",
    "\n",
    "counts_buildings_df"
   ]
  },
  {
   "cell_type": "markdown",
   "metadata": {},
   "source": [
    "Так как автомобильная доставка почти одинаковая во всех случаях отрисуем на карте просто все дома из датафрейма с домами автомообильной доставки"
   ]
  },
  {
   "cell_type": "code",
   "execution_count": null,
   "metadata": {},
   "outputs": [],
   "source": [
    "center_point = [buildings_in_drive_isochrones.geometry.centroid.y.mean(), buildings_in_drive_isochrones.geometry.centroid.x.mean()]\n",
    "\n",
    "map = folium.Map(location=center_point, zoom_start=11, attributionControl=False, tiles='cartodbpositron')\n",
    "\n",
    "for _, row in buildings_in_drive_isochrones.iterrows():\n",
    "    geom = row['geometry']\n",
    "    if geom.geom_type in ['Polygon', 'MultiPolygon']:\n",
    "        folium.GeoJson(\n",
    "            geom,\n",
    "            style_function=lambda feature: {\n",
    "                'fillColor': 'purple',\n",
    "                'color': 'purple',\n",
    "                'weight': 0.5,\n",
    "                'fillOpacity': 0.8\n",
    "            }\n",
    "        ).add_to(map)\n",
    "\n",
    "map"
   ]
  }
 ],
 "metadata": {
  "kernelspec": {
   "display_name": ".venv",
   "language": "python",
   "name": "python3"
  },
  "language_info": {
   "codemirror_mode": {
    "name": "ipython",
    "version": 3
   },
   "file_extension": ".py",
   "mimetype": "text/x-python",
   "name": "python",
   "nbconvert_exporter": "python",
   "pygments_lexer": "ipython3",
   "version": "3.11.9"
  }
 },
 "nbformat": 4,
 "nbformat_minor": 2
}
